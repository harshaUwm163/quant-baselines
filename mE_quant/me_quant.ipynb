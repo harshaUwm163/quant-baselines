{
 "cells": [
  {
   "cell_type": "code",
   "execution_count": 1,
   "metadata": {
    "metadata": {}
   },
   "outputs": [],
   "source": [
    "import torch\n",
    "import torch.nn as nn\n",
    "import numpy as np\n",
    "import matplotlib.pyplot as plt"
   ]
  },
  {
   "cell_type": "markdown",
   "metadata": {},
   "source": [
    "#### Main functions"
   ]
  },
  {
   "cell_type": "code",
   "execution_count": 2,
   "metadata": {
    "metadata": {}
   },
   "outputs": [],
   "source": [
    "def fp_bias(e_bit):\n",
    "    return (1 << (e_bit - 1)) - 1\n",
    "\n",
    "def fp_nmax(e_bit, m_bit, support_special_values = False):\n",
    "    bias = fp_bias(e_bit)\n",
    "    max_exp = (1 << e_bit) - 1 - bias\n",
    "    if support_special_values:\n",
    "        max_exp -= 1\n",
    "\n",
    "    max_frac = ((1 << (m_bit + 1)) - 1) / (1 << m_bit)\n",
    "    return max_frac * (2**max_exp)\n",
    "\n",
    "def fp_nmin(e_bit):\n",
    "    bias = fp_bias(e_bit)\n",
    "    min_exp = 1 - bias\n",
    "    return 1.0 * (2**min_exp)\n",
    "\n",
    "def fp_round(   x,\n",
    "                scale,\n",
    "                mu,\n",
    "                e_bit,\n",
    "                m_bit,\n",
    "                support_special_values = False):\n",
    "    x -= mu\n",
    "    x /= scale\n",
    "    nmax = fp_nmax(e_bit, m_bit, support_special_values)\n",
    "    nmin = fp_nmin(e_bit)\n",
    "    # saturate when overflow\n",
    "    x_overflow = torch.sign(x) * nmax\n",
    "    # sub-normal login when underflow\n",
    "    fraction_size = 1 << m_bit\n",
    "    x_underflow_scaled = torch.round(x / nmin * fraction_size)\n",
    "    x_underflow = x_underflow_scaled * nmin / fraction_size\n",
    "    # Round data with full exponent range \n",
    "    _, x_exp = torch.frexp(x)\n",
    "    x_normal = torch.round(x * 2**(-x_exp)) * 2**(x_exp)\n",
    "    x = torch.where(torch.abs(x) > nmax, x_overflow, x_normal)\n",
    "    x = torch.where(torch.abs(x) < nmin, x_underflow, x)\n",
    "\n",
    "    return x * scale + mu\n",
    "\n",
    "def fp_round_error( x,\n",
    "                    scale, \n",
    "                    mu, \n",
    "                    e_bit, \n",
    "                    m_bit, \n",
    "                    support_special_values = False,\n",
    "                    ridge_lambda = 0.0,\n",
    "                    barrier_nu = 0.0):\n",
    "    # relying on pytorch broadcasting\n",
    "    y = (x - mu) / scale\n",
    "    nmax = fp_nmax(e_bit, m_bit, support_special_values) \n",
    "    nmin = fp_nmin(e_bit) \n",
    "    eps = 2**(-m_bit - 1)\n",
    "\n",
    "    # overflow error\n",
    "    Overflow_err = torch.abs(x - mu) - (1-eps) * nmax * scale\n",
    "    ridge_error = ridge_lambda * (y/nmax + 1) * (y/nmax - 1)\n",
    "    underflow_err = eps * scale + ridge_error\n",
    "\n",
    "    err = torch.abs(x - mu) * eps + ridge_error\n",
    "    err = torch.where(torch.abs(y) < nmin, underflow_err, err)\n",
    "    err = torch.where(torch.abs(y) > nmax, Overflow_err, err)\n",
    "\n",
    "    return err - barrier_nu * eps/nmax * torch.log(scale)\n",
    "\n",
    "def fi_max(m_bit):\n",
    "    return (1 << (m_bit - 1)) - 1\n",
    "\n",
    "def fi_min(m_bit):\n",
    "    return -(1 << (m_bit - 1))\n",
    "\n",
    "def fi_round(x, \n",
    "             scale,\n",
    "             mu,\n",
    "             m_bit,\n",
    "             ):\n",
    "    x = (x - mu) / scale\n",
    "    x_fi_max = fi_max(m_bit)\n",
    "    x_fi_min = fi_min(m_bit)\n",
    "    x = torch.round(x)\n",
    "    x = torch.where(x > x_fi_max, x_fi_max, x)\n",
    "    x = torch.where(x < x_fi_min, x_fi_min, x)\n",
    "\n",
    "    return x * scale + mu\n",
    "\n",
    "# Ensure we can handle asymmetric nature of fixed point container\n",
    "# i.e., int2 is [-2,1], int4 is [-8,7], int8 is [-128,127]\n",
    "# plot the error corresponding to scale, sanity check for convexity.\n",
    "def fi_round_error(x, \n",
    "                   scale, \n",
    "                   mu, \n",
    "                   m_bit, \n",
    "                   ridge_lambda = 0.0, \n",
    "                   barrier_nu = 0.0):\n",
    "    # relying on the pytorch broadcasting\n",
    "    y = (x - mu) / scale\n",
    "    y_fi_max = fi_max(m_bit)\n",
    "    y_fi_min = fi_min(m_bit)\n",
    "\n",
    "    y_mu = (y_fi_max + y_fi_min) / 2\n",
    "    y_diff = (y_fi_max - y_fi_min) / 2\n",
    "\n",
    "    underflow_err = 0.5 + ridge_lambda * ((y - y_mu)/y_diff + 1) * ((y-y_mu)/y_diff - 1)\n",
    "    pos_overflow_err = y - y_fi_max + 0.5\n",
    "    neg_overflow_err = -y + y_fi_min + 0.5\n",
    "    err = torch.where(y > y_fi_max, pos_overflow_err, underflow_err)\n",
    "    err = torch.where(y < y_fi_min, neg_overflow_err, err)\n",
    "\n",
    "    return err * scale - barrier_nu * 0.5 / y_fi_max * torch.log(scale)\n",
    "    "
   ]
  },
  {
   "cell_type": "code",
   "execution_count": 3,
   "metadata": {
    "metadata": {}
   },
   "outputs": [
    {
     "data": {
      "text/plain": [
       "[<matplotlib.lines.Line2D at 0x7fc2949c84f0>]"
      ]
     },
     "execution_count": 3,
     "metadata": {},
     "output_type": "execute_result"
    },
    {
     "data": {
      "image/png": "[encoded data removed]",
      "text/plain": [
       "<Figure size 640x480 with 1 Axes>"
      ]
     },
     "metadata": {},
     "output_type": "display_data"
    }
   ],
   "source": [
    "scales = torch.arange(-5.0, 5.0, 0.01)\n",
    "errors = torch.tensor([fi_round_error(torch.tensor(1.0), s, 0.0, 4, 0.1, 0.1) for s in scales])\n",
    "plt.plot(scales, errors)"
   ]
  },
  {
   "cell_type": "code",
   "execution_count": 4,
   "metadata": {},
   "outputs": [
    {
     "data": {
      "image/png": "[encoded data removed]",
      "text/plain": [
       "<Figure size 640x480 with 1 Axes>"
      ]
     },
     "metadata": {},
     "output_type": "display_data"
    }
   ],
   "source": [
    "mus = torch.arange(-10.0, 10.0, 0.01)\n",
    "errors = torch.tensor([fi_round_error(torch.tensor(1.0), torch.tensor(1.0), mu, 4, 0.1, 0.1) for mu in mus])\n",
    "plt.plot(mus, errors)\n",
    "plt.show()"
   ]
  },
  {
   "cell_type": "code",
   "execution_count": 5,
   "metadata": {},
   "outputs": [
    {
     "data": {
      "image/png": "[encoded data removed]",
      "text/plain": [
       "<Figure size 640x480 with 1 Axes>"
      ]
     },
     "metadata": {},
     "output_type": "display_data"
    }
   ],
   "source": [
    "scales = torch.arange(-5.0, 5.0, 0.01)\n",
    "errors = torch.tensor([fp_round_error(torch.tensor(1.0), s, 0.0, 2, 1, False, 0.1, 0.1) for s in scales])\n",
    "plt.plot(scales, errors)\n",
    "plt.show()"
   ]
  },
  {
   "cell_type": "code",
   "execution_count": 6,
   "metadata": {},
   "outputs": [
    {
     "data": {
      "image/png": "[encoded data removed]",
      "text/plain": [
       "<Figure size 640x480 with 1 Axes>"
      ]
     },
     "metadata": {},
     "output_type": "display_data"
    }
   ],
   "source": [
    "mus = torch.arange(-2.5, 5.0, 0.01)\n",
    "errors = torch.tensor([fp_round_error(torch.tensor(1.0), torch.tensor(1.0), mu, 2, 1, False, 0.1, 0.1) for mu in mus])\n",
    "plt.plot(mus, errors)\n",
    "plt.show()"
   ]
  },
  {
   "cell_type": "markdown",
   "metadata": {},
   "source": [
    "### loading checkpoint"
   ]
  },
  {
   "cell_type": "code",
   "execution_count": 7,
   "metadata": {},
   "outputs": [],
   "source": [
    "import pickle as pkl\n",
    "with open('/workspace/llama3-8b-0-q_proj.pkl', 'rb') as f:\n",
    "    ffn1 = torch.from_numpy(pkl.load(f)).type(torch.float32)"
   ]
  },
  {
   "cell_type": "markdown",
   "metadata": {},
   "source": [
    "### Optimize rounding error"
   ]
  },
  {
   "cell_type": "code",
   "execution_count": 8,
   "metadata": {},
   "outputs": [
    {
     "data": {
      "text/plain": [
       "6.0"
      ]
     },
     "execution_count": 8,
     "metadata": {},
     "output_type": "execute_result"
    }
   ],
   "source": [
    "fp_nmax(2, 1, False)"
   ]
  },
  {
   "cell_type": "code",
   "execution_count": 12,
   "metadata": {},
   "outputs": [
    {
     "name": "stdout",
     "output_type": "stream",
     "text": [
      "epoch = 0, loss = 0.00251573184505105\n",
      "epoch = 1, loss = 0.002515044528990984\n",
      "epoch = 2, loss = 0.002517022890970111\n",
      "epoch = 3, loss = 0.0025254220236092806\n",
      "epoch = 4, loss = 0.00253132451325655\n",
      "epoch = 5, loss = 0.002530429745092988\n",
      "epoch = 6, loss = 0.0025274688377976418\n",
      "epoch = 7, loss = 0.0025241440162062645\n",
      "epoch = 8, loss = 0.002520509297028184\n",
      "epoch = 9, loss = 0.002516399370506406\n",
      "epoch = 10, loss = 0.0025113821029663086\n",
      "epoch = 11, loss = 0.0025066910311579704\n",
      "epoch = 12, loss = 0.002502572489902377\n",
      "epoch = 13, loss = 0.0024987193755805492\n",
      "epoch = 14, loss = 0.0024945600889623165\n",
      "epoch = 15, loss = 0.0024906436447054148\n",
      "epoch = 16, loss = 0.002487547229975462\n",
      "epoch = 17, loss = 0.0024847290478646755\n",
      "epoch = 18, loss = 0.002481976756826043\n",
      "epoch = 19, loss = 0.0024798749946057796\n",
      "epoch = 20, loss = 0.0024779601953923702\n",
      "epoch = 21, loss = 0.0024764579720795155\n",
      "epoch = 22, loss = 0.0024751510936766863\n",
      "epoch = 23, loss = 0.002474220935255289\n",
      "epoch = 24, loss = 0.0024736186023801565\n",
      "epoch = 25, loss = 0.0024733194150030613\n",
      "epoch = 26, loss = 0.002472955733537674\n",
      "epoch = 27, loss = 0.0024730688892304897\n",
      "epoch = 28, loss = 0.0024734148755669594\n",
      "epoch = 29, loss = 0.002473878674209118\n",
      "epoch = 30, loss = 0.002474286127835512\n",
      "epoch = 31, loss = 0.002474852604791522\n",
      "epoch = 32, loss = 0.0024757361970841885\n",
      "epoch = 33, loss = 0.002476413967087865\n",
      "epoch = 34, loss = 0.0024770512245595455\n",
      "epoch = 35, loss = 0.0024777790531516075\n",
      "epoch = 36, loss = 0.0024785976856946945\n",
      "epoch = 37, loss = 0.002479363465681672\n",
      "epoch = 38, loss = 0.0024800554383546114\n",
      "epoch = 39, loss = 0.002480588387697935\n",
      "epoch = 40, loss = 0.0024809304159134626\n",
      "epoch = 41, loss = 0.0024813651107251644\n",
      "epoch = 42, loss = 0.0024817483499646187\n",
      "epoch = 43, loss = 0.0024818789679557085\n",
      "epoch = 44, loss = 0.0024819711688905954\n",
      "epoch = 45, loss = 0.0024819837417453527\n",
      "epoch = 46, loss = 0.002481779083609581\n",
      "epoch = 47, loss = 0.0024815078359097242\n",
      "epoch = 48, loss = 0.002481186529621482\n",
      "epoch = 49, loss = 0.002480756025761366\n",
      "epoch = 50, loss = 0.0024802496191114187\n",
      "epoch = 51, loss = 0.0024795583449304104\n",
      "epoch = 52, loss = 0.00247886567376554\n",
      "epoch = 53, loss = 0.0024780905805528164\n",
      "epoch = 54, loss = 0.0024771622847765684\n",
      "epoch = 55, loss = 0.0024762339890003204\n",
      "epoch = 56, loss = 0.0024752358440309763\n",
      "epoch = 57, loss = 0.002474211622029543\n",
      "epoch = 58, loss = 0.002473113127052784\n",
      "epoch = 59, loss = 0.002471982268616557\n",
      "epoch = 60, loss = 0.002470816019922495\n",
      "epoch = 61, loss = 0.002469576895236969\n",
      "epoch = 62, loss = 0.0024683773517608643\n",
      "epoch = 63, loss = 0.0024671428836882114\n",
      "epoch = 64, loss = 0.002465904923155904\n",
      "epoch = 65, loss = 0.0024646292440593243\n",
      "epoch = 66, loss = 0.0024633801076561213\n",
      "epoch = 67, loss = 0.002462094882503152\n",
      "epoch = 68, loss = 0.0024608487728983164\n",
      "epoch = 69, loss = 0.0024595700670033693\n",
      "epoch = 70, loss = 0.0024583092890679836\n",
      "epoch = 71, loss = 0.0024570440873503685\n",
      "epoch = 72, loss = 0.002455792622640729\n",
      "epoch = 73, loss = 0.00245454884134233\n",
      "epoch = 74, loss = 0.0024533167015761137\n",
      "epoch = 75, loss = 0.0024520899169147015\n",
      "epoch = 76, loss = 0.002450878731906414\n",
      "epoch = 77, loss = 0.0024497169069945812\n",
      "epoch = 78, loss = 0.002448532497510314\n",
      "epoch = 79, loss = 0.002447386272251606\n",
      "epoch = 80, loss = 0.0024462512228637934\n",
      "epoch = 81, loss = 0.0024451478384435177\n",
      "epoch = 82, loss = 0.0024440614506602287\n",
      "epoch = 83, loss = 0.002442978322505951\n",
      "epoch = 84, loss = 0.0024419573601335287\n",
      "epoch = 85, loss = 0.0024409457109868526\n",
      "epoch = 86, loss = 0.0024399575777351856\n",
      "epoch = 87, loss = 0.0024389897007495165\n",
      "epoch = 88, loss = 0.0024380600079894066\n",
      "epoch = 89, loss = 0.0024371424224227667\n",
      "epoch = 90, loss = 0.002436254406347871\n",
      "epoch = 91, loss = 0.0024354117922484875\n",
      "epoch = 92, loss = 0.0024345736019313335\n",
      "epoch = 93, loss = 0.0024337798822671175\n",
      "epoch = 94, loss = 0.002432997338473797\n",
      "epoch = 95, loss = 0.0024322466924786568\n",
      "epoch = 96, loss = 0.002431511413305998\n",
      "epoch = 97, loss = 0.002430796856060624\n",
      "epoch = 98, loss = 0.002430129796266556\n",
      "epoch = 99, loss = 0.0024294895119965076\n"
     ]
    },
    {
     "data": {
      "text/plain": [
       "[<matplotlib.lines.Line2D at 0x7fc28ada1d20>]"
      ]
     },
     "execution_count": 12,
     "metadata": {},
     "output_type": "execute_result"
    },
    {
     "data": {
      "image/png": "[encoded data removed]",
      "text/plain": [
       "<Figure size 640x480 with 1 Axes>"
      ]
     },
     "metadata": {},
     "output_type": "display_data"
    }
   ],
   "source": [
    "def ffn_fp_round_error(params, x, e_bit, m_bit):\n",
    "    # depending on the Pytorch broadcasting\n",
    "    scale = params[0].expand(-1, x.shape[1], -1)\n",
    "    mu = params[1].expand(-1, x.shape[1], -1)\n",
    "\n",
    "    return torch.mean(fp_round_error(x, scale, mu, e_bit, m_bit, False, 0.001, 0.001))\n",
    "\n",
    "# Optimize the rounding error for fp4 e2m1\n",
    "e_bit = 2\n",
    "m_bit = 1\n",
    "BLOCK = 128\n",
    "# sub-channel shaped ffn1. The dimension is chosen to make MXU matmul easier\n",
    "b_ffn1 = ffn1.reshape((ffn1.shape[0]//BLOCK, BLOCK, ffn1.shape[1]))\n",
    "\n",
    "ffn1_max = torch.max(b_ffn1, axis=1, keepdim=True)[0]\n",
    "ffn1_min = torch.min(b_ffn1, axis=1, keepdim=True)[0]\n",
    "\n",
    "s = torch.nn.Parameter((ffn1_max - ffn1_min) / 2.0 / fp_nmax(2, 1, False))\n",
    "mu = torch.nn.Parameter((ffn1_max + ffn1_min) / 2.0)\n",
    "\n",
    "start_learning_rate = 0.001\n",
    "params = [s, mu]\n",
    "optim = torch.optim.Adam(params, lr=start_learning_rate)\n",
    "\n",
    "s_eps = 1e-5\n",
    "errs = []\n",
    "for epoch in range(100):\n",
    "    loss = ffn_fp_round_error(params, b_ffn1, 2, 1)\n",
    "    optim.zero_grad()\n",
    "    loss.backward()\n",
    "    optim.step()\n",
    "    params[0].data.clamp_(min=s_eps)\n",
    "\n",
    "    errs.append(loss.item())\n",
    "    print(f'{epoch = }, loss = {loss.item()}')\n",
    "\n",
    "plt.plot(errs)"
   ]
  },
  {
   "cell_type": "code",
   "execution_count": 10,
   "metadata": {},
   "outputs": [
    {
     "name": "stdout",
     "output_type": "stream",
     "text": [
      "epoch = 0, loss = 0.039256446063518524\n",
      "epoch = 1, loss = 0.03810936212539673\n",
      "epoch = 2, loss = 0.03750281780958176\n",
      "epoch = 3, loss = 0.03705915808677673\n",
      "epoch = 4, loss = 0.03669803589582443\n",
      "epoch = 5, loss = 0.03638686239719391\n",
      "epoch = 6, loss = 0.03610912710428238\n",
      "epoch = 7, loss = 0.03585564345121384\n",
      "epoch = 8, loss = 0.03562038391828537\n",
      "epoch = 9, loss = 0.035399429500103\n",
      "epoch = 10, loss = 0.03519011288881302\n",
      "epoch = 11, loss = 0.0349905900657177\n",
      "epoch = 12, loss = 0.03479953855276108\n",
      "epoch = 13, loss = 0.03461609035730362\n",
      "epoch = 14, loss = 0.03443966060876846\n",
      "epoch = 15, loss = 0.03426983207464218\n",
      "epoch = 16, loss = 0.03410631790757179\n",
      "epoch = 17, loss = 0.033948928117752075\n",
      "epoch = 18, loss = 0.0337974913418293\n",
      "epoch = 19, loss = 0.03365182504057884\n",
      "epoch = 20, loss = 0.03351178020238876\n",
      "epoch = 21, loss = 0.033377163112163544\n",
      "epoch = 22, loss = 0.03324773907661438\n",
      "epoch = 23, loss = 0.03312330320477486\n",
      "epoch = 24, loss = 0.03300368785858154\n",
      "epoch = 25, loss = 0.03288876265287399\n",
      "epoch = 26, loss = 0.032778363674879074\n",
      "epoch = 27, loss = 0.03267236053943634\n",
      "epoch = 28, loss = 0.03257066756486893\n",
      "epoch = 29, loss = 0.032473109662532806\n",
      "epoch = 30, loss = 0.03237953037023544\n",
      "epoch = 31, loss = 0.03228980302810669\n",
      "epoch = 32, loss = 0.03220371901988983\n",
      "epoch = 33, loss = 0.03212118521332741\n",
      "epoch = 34, loss = 0.03204203024506569\n",
      "epoch = 35, loss = 0.03196611627936363\n",
      "epoch = 36, loss = 0.031893301755189896\n",
      "epoch = 37, loss = 0.031823452562093735\n",
      "epoch = 38, loss = 0.03175641968846321\n",
      "epoch = 39, loss = 0.031692080199718475\n",
      "epoch = 40, loss = 0.03163029998540878\n",
      "epoch = 41, loss = 0.031570952385663986\n",
      "epoch = 42, loss = 0.03151395171880722\n",
      "epoch = 43, loss = 0.031459178775548935\n",
      "epoch = 44, loss = 0.03140655532479286\n",
      "epoch = 45, loss = 0.03135598450899124\n",
      "epoch = 46, loss = 0.0313073992729187\n",
      "epoch = 47, loss = 0.03126070648431778\n",
      "epoch = 48, loss = 0.031215816736221313\n",
      "epoch = 49, loss = 0.031172625720500946\n"
     ]
    }
   ],
   "source": [
    "def ffn_fi_round_error(params, x, m_bit):\n",
    "    scale = params[0].expand(-1, x.shape[1], -1)\n",
    "    mu = params[1].expand(-1, x.shape[1], -1)\n",
    "\n",
    "    return torch.mean(fi_round_error(x, scale, mu, m_bit, 0.01, 0.01))\n",
    "\n",
    "ffn1.shape\n",
    "BLOCK = 128\n",
    "m_bit = 2\n",
    "\n",
    "# sub-channel shaped ffn1. The dimension is chosen to make MXU matmul easier\n",
    "b_ffn1 = ffn1.reshape((ffn1.shape[0]//BLOCK, BLOCK, ffn1.shape[1]))\n",
    "\n",
    "ffn1_max = torch.max(b_ffn1, axis=1, keepdim=True)[0]\n",
    "ffn1_min = torch.min(b_ffn1, axis=1, keepdim=True)[0]\n",
    "\n",
    "s = torch.nn.Parameter((ffn1_max - ffn1_min) / 2.0 / fi_max(m_bit))\n",
    "mu = torch.nn.Parameter((ffn1_max + ffn1_min) / 2.0)\n",
    "\n",
    "start_learning_rate = 0.001\n",
    "params = [s, mu]\n",
    "optim = torch.optim.Adam(params, lr=start_learning_rate)\n",
    "\n",
    "s_eps = 1e-5\n",
    "errs = []\n",
    "for epoch in range(50):\n",
    "    loss = ffn_fi_round_error(params, b_ffn1, m_bit)\n",
    "    optim.zero_grad()\n",
    "    loss.backward()\n",
    "    optim.step()\n",
    "    params[0].data.clamp_(min=s_eps)\n",
    "\n",
    "    errs.append(loss.item())\n",
    "    print(f'{epoch = }, loss = {loss.item()}')"
   ]
  },
  {
   "cell_type": "code",
   "execution_count": 11,
   "metadata": {},
   "outputs": [
    {
     "name": "stdout",
     "output_type": "stream",
     "text": [
      "torch.Size([32, 1, 4096])\n",
      "torch.Size([32, 1, 4096])\n"
     ]
    }
   ],
   "source": [
    "print(s.shape)\n",
    "print(mu.shape)"
   ]
  },
  {
   "cell_type": "code",
   "execution_count": 13,
   "metadata": {},
   "outputs": [],
   "source": [
    "with torch.no_grad():\n",
    "    fake_quant_x = fp_round(    b_ffn1,\n",
    "                                s.expand(-1, b_ffn1.shape[1], -1),\n",
    "                                mu.expand(-1, b_ffn1.shape[1], -1),\n",
    "                                e_bit,\n",
    "                                m_bit,\n",
    "                                support_special_values = False)"
   ]
  },
  {
   "cell_type": "code",
   "execution_count": 14,
   "metadata": {},
   "outputs": [
    {
     "name": "stdout",
     "output_type": "stream",
     "text": [
      "fake_quant_x\n",
      "tensor([[[-4.8297e-03, -2.5173e-02, -2.8509e-03,  ...,  7.9778e-03,\n",
      "          -4.7649e-02, -2.1269e-02],\n",
      "         [-1.0052e-02, -7.1342e-02, -2.8509e-03,  ..., -1.4677e-02,\n",
      "          -5.1770e-02,  2.1757e-02],\n",
      "         [-2.0497e-02, -4.3641e-02, -2.8509e-03,  ...,  1.2509e-02,\n",
      "          -1.0556e-02,  1.1001e-02],\n",
      "         ...,\n",
      "         [ 3.1728e-02, -2.5173e-02, -2.0264e-02,  ..., -5.6152e-03,\n",
      "           1.8081e-03,  2.5343e-02],\n",
      "         [ 5.6152e-03,  3.9464e-02,  1.4562e-02,  ...,  2.6102e-02,\n",
      "           3.0658e-02,  1.8172e-02],\n",
      "         [ 3.9275e-04, -6.7054e-03,  2.9533e-03,  ...,  2.1571e-02,\n",
      "           1.4172e-02,  2.4414e-04]],\n",
      "\n",
      "        [[-4.8285e-03, -1.3726e-02, -8.7307e-02,  ...,  4.8118e-02,\n",
      "           5.4717e-02,  3.4522e-02],\n",
      "         [ 8.1921e-03,  5.3577e-03, -2.4620e-02,  ...,  1.0994e-02,\n",
      "           5.4717e-02,  2.1957e-02],\n",
      "         [ 3.8519e-03,  5.3577e-03, -3.0319e-02,  ...,  4.8063e-03,\n",
      "           3.0799e-02,  2.1957e-02],\n",
      "         ...,\n",
      "         [-9.1687e-03,  2.4441e-02,  3.8068e-02,  ..., -3.2318e-02,\n",
      "          -1.7036e-02, -3.1738e-03],\n",
      "         [-3.0870e-02, -1.3726e-02, -7.5232e-03,  ..., -7.5684e-03,\n",
      "           1.1665e-02,  3.1088e-03],\n",
      "         [-9.1687e-03, -6.4614e-02,  9.5733e-03,  ...,  2.3368e-02,\n",
      "           6.8816e-03,  1.2533e-02]],\n",
      "\n",
      "        [[-6.3360e-02, -1.0095e-01, -8.6258e-03,  ...,  2.7973e-02,\n",
      "          -6.3376e-02,  2.0150e-02],\n",
      "         [-5.1909e-02, -1.0095e-01, -8.6258e-03,  ...,  5.1308e-02,\n",
      "          -6.3376e-02,  4.0921e-02],\n",
      "         [-7.4811e-02, -1.0095e-01,  1.7580e-02,  ...,  4.5475e-02,\n",
      "          -9.3994e-03,  3.2613e-02],\n",
      "         ...,\n",
      "         [ 5.3478e-03,  8.4021e-03, -8.0691e-02,  ..., -3.0364e-02,\n",
      "          -2.2894e-02, -2.9703e-02],\n",
      "         [ 1.1073e-02, -4.6276e-02,  5.6888e-02,  ...,  4.6387e-03,\n",
      "          -9.3994e-03,  3.5321e-03],\n",
      "         [-2.3280e-02, -2.4405e-02,  1.1028e-02,  ...,  2.7973e-02,\n",
      "          -9.3994e-03, -4.7766e-03]],\n",
      "\n",
      "        ...,\n",
      "\n",
      "        [[ 2.4133e-02,  6.6739e-02,  4.3184e-03,  ..., -1.0582e-02,\n",
      "           3.3656e-02,  9.2802e-03],\n",
      "         [ 1.6754e-03,  1.3972e-02,  3.0914e-04,  ..., -1.4816e-02,\n",
      "          -5.2923e-03,  1.1498e-02],\n",
      "         [-2.4866e-02, -5.9903e-02,  1.2337e-02,  ...,  1.9057e-02,\n",
      "          -1.3947e-02,  4.8440e-03],\n",
      "         ...,\n",
      "         [-1.2616e-02, -3.3519e-02,  2.4365e-02,  ...,  2.1206e-03,\n",
      "          -9.6199e-03,  2.6259e-03],\n",
      "         [-4.4495e-03, -7.1356e-03,  1.6346e-02,  ...,  3.5046e-06,\n",
      "          -3.1285e-03,  1.8152e-02],\n",
      "         [ 5.7587e-03,  3.4180e-03, -3.7002e-03,  ..., -4.2306e-03,\n",
      "          -3.1285e-03, -1.8102e-03]],\n",
      "\n",
      "        [[-2.9135e-02, -5.6970e-02,  1.3130e-02,  ...,  1.3194e-02,\n",
      "          -1.5907e-02,  2.0752e-03],\n",
      "         [ 3.4899e-03,  1.3707e-02, -9.1828e-03,  ...,  4.6416e-03,\n",
      "           4.9299e-03, -5.6548e-03],\n",
      "         [ 3.4899e-03,  3.0337e-02, -2.8309e-02,  ..., -2.2002e-03,\n",
      "           1.9814e-02, -1.1839e-02],\n",
      "         ...,\n",
      "         [-3.7602e-03, -1.5395e-02,  1.3130e-02,  ..., -2.2002e-03,\n",
      "          -1.0236e-03,  2.0752e-03],\n",
      "         [ 3.4899e-03, -1.5395e-02,  1.3130e-02,  ..., -2.2002e-03,\n",
      "          -2.5120e-03,  5.1672e-03],\n",
      "         [-1.1010e-02,  1.2349e-03,  1.3130e-02,  ..., -3.9106e-03,\n",
      "           9.3950e-03, -1.1839e-02]],\n",
      "\n",
      "        [[ 2.2399e-03, -3.6015e-03,  9.7656e-04,  ..., -7.0510e-03,\n",
      "          -5.2552e-03, -1.1803e-02],\n",
      "         [-2.6488e-03, -8.0576e-03,  7.2263e-03,  ...,  1.5885e-02,\n",
      "           1.0895e-03,  3.1890e-03],\n",
      "         [-1.0192e-03,  1.4223e-02,  9.7656e-04,  ...,  9.1389e-03,\n",
      "           4.7150e-03,  6.1873e-03],\n",
      "         ...,\n",
      "         [-4.2784e-03, -3.9250e-02,  6.9723e-02,  ...,  5.0914e-03,\n",
      "          -2.5361e-03,  2.4394e-03],\n",
      "         [-5.9079e-03, -1.2514e-02,  3.8475e-02,  ...,  5.0914e-03,\n",
      "          -3.4424e-03,  1.9070e-04],\n",
      "         [-4.2784e-03, -1.6970e-02,  3.2225e-02,  ...,  9.1389e-03,\n",
      "           1.0895e-03,  3.1890e-03]]])\n",
      "b_ffn1\n",
      "tensor([[[-8.0202e-01, -2.7101e+00,  1.4735e+00,  ...,  1.4312e+00,\n",
      "          -3.4061e+00, -3.0471e+00],\n",
      "         [-1.7355e+00, -4.9178e+00,  1.4130e+00,  ..., -7.6782e-01,\n",
      "          -3.7616e+00,  2.8258e+00],\n",
      "         [-2.3374e+00, -3.6619e+00,  1.3355e+00,  ...,  1.8859e+00,\n",
      "           6.7383e-01,  1.5746e+00],\n",
      "         ...,\n",
      "         [ 2.3725e+00, -2.5713e+00, -1.9980e-01,  ...,  4.7147e-02,\n",
      "           2.2995e+00,  3.4726e+00],\n",
      "         [ 4.3826e-02,  1.2162e+00,  3.1547e+00,  ...,  3.5024e+00,\n",
      "           6.7234e+00,  2.3321e+00],\n",
      "         [-4.9944e-01, -1.5319e+00,  1.9119e+00,  ...,  2.9096e+00,\n",
      "           3.9615e+00, -4.2557e-03]],\n",
      "\n",
      "        [[-2.9532e-01, -2.1157e+00, -6.0084e+00,  ...,  4.6758e+00,\n",
      "           6.9666e+00,  7.7720e+00],\n",
      "         [ 8.0861e-01, -4.0779e-01, -4.1769e-01,  ...,  1.5783e+00,\n",
      "           7.1707e+00,  4.1191e+00],\n",
      "         [ 4.2364e-01, -3.0704e-01, -9.6391e-01,  ...,  1.2183e+00,\n",
      "           3.2536e+00,  4.1386e+00],\n",
      "         ...,\n",
      "         [-1.0195e+00,  7.2923e-01,  4.9802e+00,  ..., -1.8644e+00,\n",
      "          -1.6842e+00,  1.4087e-01],\n",
      "         [-3.3188e+00, -2.2261e+00,  6.9080e-01,  ...,  1.6030e-01,\n",
      "           1.3971e+00,  8.7920e-01],\n",
      "         [-8.3673e-01, -5.9873e+00,  2.3241e+00,  ...,  2.6338e+00,\n",
      "           6.6349e-01,  2.4967e+00]],\n",
      "\n",
      "        [[-4.8183e+00, -6.4296e+00,  1.1226e+00,  ...,  1.7577e+00,\n",
      "          -7.6394e+00,  7.4928e-01],\n",
      "         [-4.0721e+00, -5.8045e+00,  6.0556e-01,  ...,  4.1850e+00,\n",
      "          -7.0967e+00,  3.4232e+00],\n",
      "         [-6.7584e+00, -7.0324e+00,  3.0744e+00,  ...,  3.5573e+00,\n",
      "          -1.7640e-01,  2.6592e+00],\n",
      "         ...,\n",
      "         [ 9.2475e-01, -8.5673e-01, -4.3787e+00,  ..., -3.0027e+00,\n",
      "          -1.6690e+00, -5.0981e+00],\n",
      "         [ 1.4391e+00, -3.3711e+00,  6.6146e+00,  ..., -2.3541e-02,\n",
      "          -1.8318e-01, -1.1533e+00],\n",
      "         [-1.6310e+00, -2.7404e+00,  2.4316e+00,  ...,  1.9251e+00,\n",
      "          -1.2891e-01, -1.7649e+00]],\n",
      "\n",
      "        ...,\n",
      "\n",
      "        [[ 6.7265e+00,  6.8938e+00,  1.7621e+00,  ..., -7.3517e-01,\n",
      "           8.0956e+00,  3.0957e+00],\n",
      "         [ 3.4193e-01,  1.2261e+00,  1.7107e+00,  ..., -1.9172e+00,\n",
      "          -2.9900e+00,  3.6047e+00],\n",
      "         [-6.7265e+00, -6.8938e+00,  3.1741e+00,  ...,  7.2652e+00,\n",
      "          -5.0350e+00,  2.0638e+00],\n",
      "         ...,\n",
      "         [-2.9298e+00, -3.4700e+00,  4.7345e+00,  ...,  1.8145e+00,\n",
      "          -3.8362e+00,  1.3346e+00],\n",
      "         [-1.1659e+00, -7.4027e-01,  3.5166e+00,  ...,  1.6050e+00,\n",
      "          -2.5457e+00,  4.7880e+00],\n",
      "         [ 1.2706e+00,  3.0363e-02,  5.8991e-01,  ...,  3.0993e-01,\n",
      "          -2.5739e+00,  3.7148e-01]],\n",
      "\n",
      "        [[-7.7956e+00, -7.1348e+00,  2.6328e+00,  ...,  3.4970e+00,\n",
      "          -7.2584e+00, -1.9740e-02],\n",
      "         [ 3.0812e+00,  2.4370e+00, -5.3135e-01,  ...,  6.2893e-01,\n",
      "           7.7915e-01, -2.6550e+00],\n",
      "         [ 2.7529e+00,  4.6098e+00, -3.9253e+00,  ..., -5.1407e-01,\n",
      "           7.2584e+00, -4.2835e+00],\n",
      "         ...,\n",
      "         [ 5.1353e-01, -1.2038e+00,  2.3935e+00,  ..., -1.2356e+00,\n",
      "          -7.0386e-01,  4.9349e-03],\n",
      "         [ 3.0223e+00, -5.3585e-01,  2.4796e+00,  ..., -8.9656e-01,\n",
      "          -1.6813e+00,  7.5998e-01],\n",
      "         [-9.0920e-01,  6.9275e-01,  2.5849e+00,  ..., -1.7218e+00,\n",
      "           2.4195e+00, -4.4217e+00]],\n",
      "\n",
      "        [[ 2.7623e-01, -2.8593e-01, -2.2584e-02,  ..., -2.3638e+00,\n",
      "          -2.9292e+00, -6.9212e+00],\n",
      "         [-9.7850e-01, -7.5335e-01,  3.1251e-01,  ...,  6.1300e+00,\n",
      "           2.7356e-01,  3.8576e+00],\n",
      "         [-3.0315e-01,  1.2670e+00,  1.5382e-01,  ...,  3.6418e+00,\n",
      "           2.5757e+00,  6.5344e+00],\n",
      "         ...,\n",
      "         [-1.5918e+00, -4.6160e+00,  5.6643e+00,  ...,  1.9905e+00,\n",
      "          -1.4225e+00,  3.5420e+00],\n",
      "         [-1.8072e+00, -1.7464e+00,  3.2423e+00,  ...,  2.1263e+00,\n",
      "          -1.8855e+00,  1.9024e+00],\n",
      "         [-1.4607e+00, -1.9724e+00,  2.3536e+00,  ...,  3.3025e+00,\n",
      "           3.4511e-01,  3.9695e+00]]])\n"
     ]
    }
   ],
   "source": [
    "print('fake_quant_x')\n",
    "print(fake_quant_x)\n",
    "print('b_ffn1')\n",
    "print(b_ffn1)"
   ]
  }
 ],
 "metadata": {
  "kernelspec": {
   "display_name": "base",
   "language": "python",
   "name": "python3"
  },
  "language_info": {
   "codemirror_mode": {
    "name": "ipython",
    "version": 3
   },
   "file_extension": ".py",
   "mimetype": "text/x-python",
   "name": "python",
   "nbconvert_exporter": "python",
   "pygments_lexer": "ipython3",
   "version": "3.10.13"
  }
 },
 "nbformat": 4,
 "nbformat_minor": 2
}
